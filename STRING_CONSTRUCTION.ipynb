{
  "nbformat": 4,
  "nbformat_minor": 0,
  "metadata": {
    "colab": {
      "provenance": [],
      "authorship_tag": "ABX9TyO1RrQTOdx3HDBLUfyRVTqT",
      "include_colab_link": true
    },
    "kernelspec": {
      "name": "python3",
      "display_name": "Python 3"
    },
    "language_info": {
      "name": "python"
    }
  },
  "cells": [
    {
      "cell_type": "markdown",
      "metadata": {
        "id": "view-in-github",
        "colab_type": "text"
      },
      "source": [
        "<a href=\"https://colab.research.google.com/github/Sanjanadai23/DAA-AAT-1BM23AI411-/blob/main/STRING_CONSTRUCTION.ipynb\" target=\"_parent\"><img src=\"https://colab.research.google.com/assets/colab-badge.svg\" alt=\"Open In Colab\"/></a>"
      ]
    },
    {
      "cell_type": "markdown",
      "source": [
        "# **STRING CONSTRUCTION**"
      ],
      "metadata": {
        "id": "uF-graqezqDH"
      }
    },
    {
      "cell_type": "code",
      "execution_count": null,
      "metadata": {
        "id": "r-lpKZ6oznBF"
      },
      "outputs": [],
      "source": [
        "#!/bin/python3\n",
        "\n",
        "import math\n",
        "import os\n",
        "import random\n",
        "import re\n",
        "import sys\n",
        "\n",
        "#\n",
        "# Complete the 'stringConstruction' function below.\n",
        "#\n",
        "# The function is expected to return an INTEGER.\n",
        "# The function accepts STRING s as parameter.\n",
        "#\n",
        "\n",
        "def stringConstruction(s):\n",
        "    char_set = set()\n",
        "    cost = 0\n",
        "\n",
        "    for char in s:\n",
        "        if char not in char_set:\n",
        "            cost += 1\n",
        "            char_set.add(char)\n",
        "\n",
        "    return cost\n",
        "\n",
        "if __name__ == '__main__':\n",
        "    fptr = open(os.environ['OUTPUT_PATH'], 'w')\n",
        "\n",
        "    q = int(input().strip())\n",
        "\n",
        "    for q_itr in range(q):\n",
        "        s = input()\n",
        "\n",
        "        result = stringConstruction(s)\n",
        "\n",
        "        fptr.write(str(result) + '\\n')\n",
        "\n",
        "    fptr.close()"
      ]
    }
  ]
}