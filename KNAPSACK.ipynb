{
  "nbformat": 4,
  "nbformat_minor": 0,
  "metadata": {
    "colab": {
      "provenance": [],
      "authorship_tag": "ABX9TyN1rFsN0BUlGTHvXA1cpR0G",
      "include_colab_link": true
    },
    "kernelspec": {
      "name": "python3",
      "display_name": "Python 3"
    },
    "language_info": {
      "name": "python"
    }
  },
  "cells": [
    {
      "cell_type": "markdown",
      "metadata": {
        "id": "view-in-github",
        "colab_type": "text"
      },
      "source": [
        "<a href=\"https://colab.research.google.com/github/Sanjanadai23/DAA-AAT-1BM23AI411-/blob/main/KNAPSACK.ipynb\" target=\"_parent\"><img src=\"https://colab.research.google.com/assets/colab-badge.svg\" alt=\"Open In Colab\"/></a>"
      ]
    },
    {
      "cell_type": "markdown",
      "source": [
        "# **KNAPSACK PROBLEM**"
      ],
      "metadata": {
        "id": "2vVjLahcyWDt"
      }
    },
    {
      "cell_type": "code",
      "execution_count": null,
      "metadata": {
        "id": "BlVBAhnirYSo"
      },
      "outputs": [],
      "source": [
        "#!/bin/python3\n",
        "\n",
        "import math\n",
        "import os\n",
        "import random\n",
        "import re\n",
        "import sys\n",
        "\n",
        "#\n",
        "# Complete the 'unboundedKnapsack' function below.\n",
        "#\n",
        "# The function is expected to return an INTEGER.\n",
        "# The function accepts following parameters:\n",
        "#  1. INTEGER k\n",
        "#  2. INTEGER_ARRAY arr\n",
        "#\n",
        "\n",
        "def unboundedKnapsack(k, arr):\n",
        "    # Initialize a list to store the maximum sum possible for each value from 0 to k\n",
        "    dp = [0] * (k + 1)\n",
        "\n",
        "    # For each possible sum from 1 to k, iterate through the array arr\n",
        "    for i in range(1, k + 1):\n",
        "        for num in arr:\n",
        "            if num <= i:\n",
        "                # Update dp[i] to be the maximum of its current value and the value obtained by adding num to the maximum sum possible for i - num\n",
        "                dp[i] = max(dp[i], dp[i - num] + num)\n",
        "\n",
        "    # Return the value at dp[k] which will be the maximum sum closest to but not exceeding k\n",
        "    return dp[k]\n",
        "\n",
        "if __name__ == '__main__':\n",
        "    fptr = open(os.environ['OUTPUT_PATH'], 'w')\n",
        "\n",
        "    t = int(input().strip())\n",
        "\n",
        "    for _ in range(t):\n",
        "        first_multiple_input = input().rstrip().split()\n",
        "\n",
        "        n = int(first_multiple_input[0])\n",
        "        k = int(first_multiple_input[1])\n",
        "\n",
        "        arr = list(map(int, input().rstrip().split()))\n",
        "\n",
        "        result = unboundedKnapsack(k, arr)\n",
        "\n",
        "        fptr.write(str(result) + '\\n')\n",
        "\n",
        "    fptr.close()\n"
      ]
    }
  ]
}