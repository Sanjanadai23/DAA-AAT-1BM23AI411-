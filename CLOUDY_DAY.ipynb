{
  "nbformat": 4,
  "nbformat_minor": 0,
  "metadata": {
    "colab": {
      "provenance": [],
      "authorship_tag": "ABX9TyMljaBd31Yx8aUE7VNSOEbf",
      "include_colab_link": true
    },
    "kernelspec": {
      "name": "python3",
      "display_name": "Python 3"
    },
    "language_info": {
      "name": "python"
    }
  },
  "cells": [
    {
      "cell_type": "markdown",
      "metadata": {
        "id": "view-in-github",
        "colab_type": "text"
      },
      "source": [
        "<a href=\"https://colab.research.google.com/github/Sanjanadai23/DAA-AAT-1BM23AI411-/blob/main/CLOUDY_DAY.ipynb\" target=\"_parent\"><img src=\"https://colab.research.google.com/assets/colab-badge.svg\" alt=\"Open In Colab\"/></a>"
      ]
    },
    {
      "cell_type": "markdown",
      "source": [
        "# **CLOUDY DAY**"
      ],
      "metadata": {
        "id": "SSmwCpznzS1M"
      }
    },
    {
      "cell_type": "code",
      "execution_count": null,
      "metadata": {
        "id": "biJBhcv9zGbH"
      },
      "outputs": [],
      "source": [
        "#!/bin/python3\n",
        "\n",
        "import math\n",
        "import os\n",
        "import random\n",
        "import re\n",
        "import sys\n",
        "\n",
        "#\n",
        "# Complete the 'maximumPeople' function below.\n",
        "#\n",
        "# The function is expected to return a LONG_INTEGER.\n",
        "# The function accepts following parameters:\n",
        "#  1. LONG_INTEGER_ARRAY p\n",
        "#  2. LONG_INTEGER_ARRAY x\n",
        "#  3. LONG_INTEGER_ARRAY y\n",
        "#  4. LONG_INTEGER_ARRAY r\n",
        "#\n",
        "\n",
        "def maximumPeople(p, x, y, r):\n",
        "    n = len(p)\n",
        "    m = len(y)\n",
        "\n",
        "    # Initialize dictionaries to track town coverage\n",
        "    town_to_clouds = {i: [] for i in range(n)}\n",
        "    cloud_to_population = {i: 0 for i in range(m)}\n",
        "\n",
        "    # Track the initial sunny population\n",
        "    initial_sunny_population = 0\n",
        "\n",
        "    # Create a list of events for starting and ending of cloud ranges\n",
        "    events = []\n",
        "    for cloud_id in range(m):\n",
        "        cloud_start = y[cloud_id] - r[cloud_id]\n",
        "        cloud_end = y[cloud_id] + r[cloud_id]\n",
        "        events.append((cloud_start, 'start', cloud_id))\n",
        "        events.append((cloud_end + 1, 'end', cloud_id))\n",
        "\n",
        "    # Sort events by position\n",
        "    events.sort()\n",
        "\n",
        "    # Track which clouds are currently covering towns\n",
        "    active_clouds = set()\n",
        "    current_index = 0\n",
        "\n",
        "    # Process events and calculate coverage\n",
        "    for pos, event_type, cloud_id in events:\n",
        "        while current_index < n and x[current_index] < pos:\n",
        "            if not active_clouds:\n",
        "                initial_sunny_population += p[current_index]\n",
        "            elif len(active_clouds) == 1:\n",
        "                single_cloud_id = next(iter(active_clouds))\n",
        "                cloud_to_population[single_cloud_id] += p[current_index]\n",
        "            current_index += 1\n",
        "\n",
        "        if event_type == 'start':\n",
        "            active_clouds.add(cloud_id)\n",
        "        elif event_type == 'end':\n",
        "            active_clouds.remove(cloud_id)\n",
        "\n",
        "    # Process remaining towns if any\n",
        "    while current_index < n:\n",
        "        if not active_clouds:\n",
        "            initial_sunny_population += p[current_index]\n",
        "        elif len(active_clouds) == 1:\n",
        "            single_cloud_id = next(iter(active_clouds))\n",
        "            cloud_to_population[single_cloud_id] += p[current_index]\n",
        "        current_index += 1\n",
        "\n",
        "    # Calculate the maximum number of people in sunny towns after removing one cloud\n",
        "    max_sunny_population = initial_sunny_population\n",
        "\n",
        "    for cloud_id in range(m):\n",
        "        new_sunny_population = initial_sunny_population + cloud_to_population[cloud_id]\n",
        "        max_sunny_population = max(max_sunny_population, new_sunny_population)\n",
        "\n",
        "    return max_sunny_population\n",
        "\n",
        "if __name__ == '__main__':\n",
        "    fptr = open(os.environ['OUTPUT_PATH'], 'w')\n",
        "\n",
        "    n = int(input().strip())\n",
        "\n",
        "    p = list(map(int, input().rstrip().split()))\n",
        "\n",
        "    x = list(map(int, input().rstrip().split()))\n",
        "\n",
        "    m = int(input().strip())\n",
        "\n",
        "    y = list(map(int, input().rstrip().split()))\n",
        "\n",
        "    r = list(map(int, input().rstrip().split()))\n",
        "\n",
        "    result = maximumPeople(p, x, y, r)\n",
        "\n",
        "    fptr.write(str(result) + '\\n')\n",
        "\n",
        "    fptr.close()"
      ]
    }
  ]
}