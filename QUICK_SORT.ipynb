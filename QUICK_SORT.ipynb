{
  "nbformat": 4,
  "nbformat_minor": 0,
  "metadata": {
    "colab": {
      "provenance": [],
      "authorship_tag": "ABX9TyP1NhLBWzXCAZovTzjR0yaf",
      "include_colab_link": true
    },
    "kernelspec": {
      "name": "python3",
      "display_name": "Python 3"
    },
    "language_info": {
      "name": "python"
    }
  },
  "cells": [
    {
      "cell_type": "markdown",
      "metadata": {
        "id": "view-in-github",
        "colab_type": "text"
      },
      "source": [
        "<a href=\"https://colab.research.google.com/github/Sanjanadai23/DAA-AAT-1BM23AI411-/blob/main/QUICK_SORT.ipynb\" target=\"_parent\"><img src=\"https://colab.research.google.com/assets/colab-badge.svg\" alt=\"Open In Colab\"/></a>"
      ]
    },
    {
      "cell_type": "markdown",
      "source": [
        "# **QUICK SORT**"
      ],
      "metadata": {
        "id": "A3ypTdG-zgmn"
      }
    },
    {
      "cell_type": "code",
      "execution_count": null,
      "metadata": {
        "id": "F_1Q9VsmzbW1"
      },
      "outputs": [],
      "source": [
        "#!/bin/python3\n",
        "\n",
        "import math\n",
        "import os\n",
        "import random\n",
        "import re\n",
        "import sys\n",
        "\n",
        "#\n",
        "# Complete the 'quickSort' function below.\n",
        "#\n",
        "# The function is expected to return an INTEGER_ARRAY.\n",
        "# The function accepts INTEGER_ARRAY arr as parameter.\n",
        "#\n",
        "\n",
        "def quickSort(arr):\n",
        "    p = arr[0]  # First element as pivot\n",
        "    left = []\n",
        "    equal = []\n",
        "    right = []\n",
        "\n",
        "    for num in arr:\n",
        "        if num < p:\n",
        "            left.append(num)\n",
        "        elif num == p:\n",
        "            equal.append(num)\n",
        "        else:\n",
        "            right.append(num)\n",
        "\n",
        "    return left + equal + right\n",
        "\n",
        "if __name__ == '__main__':\n",
        "    fptr = open(os.environ['OUTPUT_PATH'], 'w')\n",
        "\n",
        "    n = int(input().strip())\n",
        "\n",
        "    arr = list(map(int, input().rstrip().split()))\n",
        "\n",
        "    result = quickSort(arr)\n",
        "\n",
        "    fptr.write(' '.join(map(str, result)))\n",
        "    fptr.write('\\n')\n",
        "\n",
        "    fptr.close()\n"
      ]
    }
  ]
}